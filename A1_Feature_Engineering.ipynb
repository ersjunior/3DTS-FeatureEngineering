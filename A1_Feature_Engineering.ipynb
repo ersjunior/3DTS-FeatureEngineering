{
  "nbformat": 4,
  "nbformat_minor": 0,
  "metadata": {
    "colab": {
      "provenance": []
    },
    "kernelspec": {
      "name": "python3",
      "display_name": "Python 3"
    },
    "language_info": {
      "name": "python"
    }
  },
  "cells": [
    {
      "cell_type": "markdown",
      "source": [
        "# Aula 1 - Feature Engineering\n",
        "\n",
        "* Hands ON"
      ],
      "metadata": {
        "id": "hXmNdYQvq2c6"
      }
    },
    {
      "cell_type": "code",
      "execution_count": null,
      "metadata": {
        "id": "2QZbKTIan2GQ"
      },
      "outputs": [],
      "source": []
    }
  ]
}